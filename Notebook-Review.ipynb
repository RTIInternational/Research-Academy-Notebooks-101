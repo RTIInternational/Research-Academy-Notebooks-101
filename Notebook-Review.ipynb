{
 "cells": [
  {
   "cell_type": "markdown",
   "metadata": {},
   "source": [
    "# Jupyter Notebook Review: Brief Introduction\n",
    "The purpose of this file is to help introduce you to using a Jupyter Notebook.\n",
    "- Information on the built-in tutorial. --> Iris\n",
    "- Provide basic code samples in the context of a Jupyter Notebook.\n",
    "    --> Do for R and Python. (tidyverse R, Python with minimal amount of packages. if using packages, explain.)\n",
    "- Additional code snippets that may be useful for understanding what variables are stored in memory.\n",
    "    - Address Q: I think I have a dataset, but I don't know where to access data.\n",
    "- Breaking down SQL script and/or summarizing auto-generated code purpose. --> Javan\n",
    "- Edit mode vs. Playground mode.\n",
    "- Research question scenarios and generalized solutions. --> Stefanee, TR, and Vincenzo\n",
    "- Compute configurations for cloud environment. Define CPU, RAM, VM.\n"
   ]
  },
  {
   "cell_type": "markdown",
   "metadata": {},
   "source": [
    "## Built-in Jupyter notebook tutorial.\n",
    "<figure>\n",
    "    <center> \n",
    "        <img src=\"./images/Builtin-Tutorial-Image.PNG\"  alt='missing' width=\"400\">\n",
    "    <center/>\n",
    "<figure/>\n",
    "\n",
    "\n",
    "\n"
   ]
  },
  {
   "cell_type": "markdown",
   "metadata": {},
   "source": [
    "Click \"Help\" in the menu bar, then \"User Interface Tour\". This will help give you a general tour of the Jupyter Notebook and it's buttons."
   ]
  },
  {
   "cell_type": "markdown",
   "metadata": {},
   "source": [
    "# Basic Code Samples\n",
    "- ls() to list all variables and dataframes in memory\n",
    "- Viewing previews of dataframes.\n",
    "- Looking at a dataframe without any parts truncated."
   ]
  },
  {
   "cell_type": "markdown",
   "metadata": {},
   "source": [
    "# Breaking down auto-generated code."
   ]
  },
  {
   "cell_type": "markdown",
   "metadata": {},
   "source": [
    "# Compute configurations in the Cloud Environment."
   ]
  },
  {
   "cell_type": "code",
   "execution_count": null,
   "metadata": {},
   "outputs": [],
   "source": []
  }
 ],
 "metadata": {
  "kernelspec": {
   "display_name": "Python 3.8.18 64-bit",
   "language": "python",
   "name": "python3"
  },
  "language_info": {
   "name": "python",
   "version": "3.8.18"
  },
  "orig_nbformat": 4,
  "vscode": {
   "interpreter": {
    "hash": "1ee38ef4a5a9feb55287fd749643f13d043cb0a7addaab2a9c224cbe137c0062"
   }
  }
 },
 "nbformat": 4,
 "nbformat_minor": 2
}
